{
 "cells": [
  {
   "cell_type": "markdown",
   "metadata": {},
   "source": [
    "# Using LSTM for Predicting change in Sentiments"
   ]
  },
  {
   "cell_type": "markdown",
   "metadata": {},
   "source": [
    "Here, I use an LSTM model to predict the change in the sentiment of an incoming utterance given the previous sentiment. This model takes as input word sequences and a real number for the sentiment of previous utterance. This model is able to take word ordering into account. Similar to the previous models, I use a pre-trained word embeddings to represent words, 50 dimensional Glove. For my implementation I use Keras with tensorflow as the backend."
   ]
  },
  {
   "cell_type": "markdown",
   "metadata": {},
   "source": [
    "## Overview of the model\n"
   ]
  },
  {
   "cell_type": "code",
   "execution_count": 46,
   "metadata": {},
   "outputs": [],
   "source": [
    "from utility import *\n",
    "\n",
    "from keras.models import Model\n",
    "from keras.layers import Dense, Input, Dropout, LSTM, Activation, Concatenate\n",
    "from keras.layers.embeddings import Embedding\n",
    "from keras.preprocessing import sequence\n",
    "from keras.initializers import glorot_uniform\n",
    "\n",
    "np.random.seed(1)"
   ]
  },
  {
   "cell_type": "code",
   "execution_count": 4,
   "metadata": {},
   "outputs": [],
   "source": [
    "# 50-dimensional GloVe embeddings\n",
    "word_to_index, index_to_word, word_to_vec_map = read_glove_vecs('glove.6B/glove.6B.50d.txt')"
   ]
  },
  {
   "cell_type": "code",
   "execution_count": 25,
   "metadata": {},
   "outputs": [],
   "source": [
    "def sentences_to_indices(samples, word_to_index, max_len):\n",
    "    \n",
    "    m = len(samples)                                   # number of training examples\n",
    "    X_indices = np.zeros((m, max_len))\n",
    "    \n",
    "    for i, sentence in enumerate(samples):                               # loop over training examples\n",
    "        \n",
    "        sentence = re.sub(r'[^\\w\\s]', ' ', sentence.strip())  \n",
    "        words = [i.lower() for i in sentence.strip().split()]\n",
    "        j = 0\n",
    "        \n",
    "        for w in words:\n",
    "            if w in word_to_index:\n",
    "                X_indices[i, j] = word_to_index[w]\n",
    "            else:\n",
    "                X_indices[i, j] = word_to_index['unk']\n",
    "            j += 1\n",
    "            if j == max_len: break\n",
    "                \n",
    "    return X_indices"
   ]
  },
  {
   "cell_type": "code",
   "execution_count": 64,
   "metadata": {},
   "outputs": [],
   "source": [
    "def create_features(samples_list):\n",
    "    \n",
    "    X, Y, aux_X = [], [], []\n",
    "    for sample in samples_list:            \n",
    "        X.append(sample['utterance'])\n",
    "        Y.append(sample['current_emotion'] - sample['prev_emotion'])\n",
    "        aux_X.append(sample['prev_emotion'])\n",
    "    \n",
    "    return X, aux_X, Y"
   ]
  },
  {
   "cell_type": "code",
   "execution_count": 14,
   "metadata": {},
   "outputs": [],
   "source": [
    "def pretrained_embedding_layer(word_to_vec_map, word_to_index):\n",
    "   \n",
    "    vocab_len = len(word_to_index) + 1                  # adding 1 to fit Keras embedding (requirement)\n",
    "    emb_dim = word_to_vec_map[\"cucumber\"].shape[0]      # define dimensionality of your GloVe word vectors (= 50)\n",
    "    emb_matrix = np.zeros((vocab_len, emb_dim))\n",
    "    \n",
    "    for word, index in word_to_index.items():\n",
    "        emb_matrix[index, :] = word_to_vec_map[word]\n",
    "\n",
    "    embedding_layer = Embedding(vocab_len, emb_dim, trainable=False)\n",
    "    embedding_layer.build((None,))\n",
    "    embedding_layer.set_weights([emb_matrix])\n",
    "    \n",
    "    return embedding_layer"
   ]
  },
  {
   "cell_type": "code",
   "execution_count": 54,
   "metadata": {},
   "outputs": [],
   "source": [
    "def sentiment_model(input_shape, word_to_vec_map, word_to_index):\n",
    "    \n",
    "    sentence_indices = Input(input_shape, dtype='int32')\n",
    "    aux_input = Input((1, ), dtype='float32')\n",
    "    \n",
    "    embedding_layer = pretrained_embedding_layer(word_to_vec_map, word_to_index)\n",
    "    embeddings = embedding_layer(sentence_indices)   \n",
    "    \n",
    "    X = LSTM(128, return_sequences=True)(embeddings)\n",
    "    X = Dropout(0.5)(X)\n",
    "    X = LSTM(128, return_sequences=False)(X)\n",
    "    X = Dropout(0.5)(X)\n",
    "    X = Dense(1)(X)\n",
    "    \n",
    "    merged = Concatenate()([aux_input, X])\n",
    "    merged = Dense(1)(merged)\n",
    "    output = Activation('tanh')(merged)\n",
    "    model = Model(inputs=[aux_input, sentence_indices], outputs=output)\n",
    "        \n",
    "    return model"
   ]
  },
  {
   "cell_type": "code",
   "execution_count": 16,
   "metadata": {},
   "outputs": [],
   "source": [
    "train_conversations = load_conversations(category='train')\n",
    "find_sentiments(train_conversations)\n",
    "\n",
    "test_conversations = load_conversations(category='test')\n",
    "find_sentiments(test_conversations)\n",
    "\n",
    "validation_conversations = load_conversations(category='validation')\n",
    "find_sentiments(validation_conversations)"
   ]
  },
  {
   "cell_type": "code",
   "execution_count": 19,
   "metadata": {},
   "outputs": [],
   "source": [
    "maxLen = 15"
   ]
  },
  {
   "cell_type": "code",
   "execution_count": 58,
   "metadata": {},
   "outputs": [],
   "source": [
    "train_samples = create_samples(train_conversations)\n",
    "x_train, aux_x_train, y_train = create_features(train_samples)"
   ]
  },
  {
   "cell_type": "code",
   "execution_count": 71,
   "metadata": {},
   "outputs": [
    {
     "name": "stdout",
     "output_type": "stream",
     "text": [
      "76052 76052 76052\n"
     ]
    }
   ],
   "source": [
    "print(len(x_train), len(aux_x_train), len(y_train))"
   ]
  },
  {
   "cell_type": "code",
   "execution_count": 65,
   "metadata": {},
   "outputs": [
    {
     "name": "stdout",
     "output_type": "stream",
     "text": [
      "(76052, 1)\n"
     ]
    }
   ],
   "source": [
    "aux_x_train = np.array(aux_x_train) \n",
    "aux_x_train.reshape(-1, 1)\n",
    "print(aux_x_train.shape)"
   ]
  },
  {
   "cell_type": "code",
   "execution_count": 55,
   "metadata": {},
   "outputs": [
    {
     "name": "stdout",
     "output_type": "stream",
     "text": [
      "__________________________________________________________________________________________________\n",
      "Layer (type)                    Output Shape         Param #     Connected to                     \n",
      "==================================================================================================\n",
      "input_9 (InputLayer)            (None, 15)           0                                            \n",
      "__________________________________________________________________________________________________\n",
      "embedding_6 (Embedding)         (None, 15, 50)       20000050    input_9[0][0]                    \n",
      "__________________________________________________________________________________________________\n",
      "lstm_11 (LSTM)                  (None, 15, 128)      91648       embedding_6[0][0]                \n",
      "__________________________________________________________________________________________________\n",
      "dropout_11 (Dropout)            (None, 15, 128)      0           lstm_11[0][0]                    \n",
      "__________________________________________________________________________________________________\n",
      "lstm_12 (LSTM)                  (None, 128)          131584      dropout_11[0][0]                 \n",
      "__________________________________________________________________________________________________\n",
      "dropout_12 (Dropout)            (None, 128)          0           lstm_12[0][0]                    \n",
      "__________________________________________________________________________________________________\n",
      "input_10 (InputLayer)           (None, 1)            0                                            \n",
      "__________________________________________________________________________________________________\n",
      "dense_7 (Dense)                 (None, 1)            129         dropout_12[0][0]                 \n",
      "__________________________________________________________________________________________________\n",
      "concatenate_3 (Concatenate)     (None, 2)            0           input_10[0][0]                   \n",
      "                                                                 dense_7[0][0]                    \n",
      "__________________________________________________________________________________________________\n",
      "dense_8 (Dense)                 (None, 1)            3           concatenate_3[0][0]              \n",
      "__________________________________________________________________________________________________\n",
      "activation_5 (Activation)       (None, 1)            0           dense_8[0][0]                    \n",
      "==================================================================================================\n",
      "Total params: 20,223,414\n",
      "Trainable params: 223,364\n",
      "Non-trainable params: 20,000,050\n",
      "__________________________________________________________________________________________________\n"
     ]
    }
   ],
   "source": [
    "model = sentiment_model((maxLen,), word_to_vec_map, word_to_index)\n",
    "model.summary()"
   ]
  },
  {
   "cell_type": "code",
   "execution_count": 67,
   "metadata": {},
   "outputs": [
    {
     "name": "stdout",
     "output_type": "stream",
     "text": [
      "Epoch 1/10\n",
      "76052/76052 [==============================] - 138s 2ms/step - loss: 0.1026 - mean_squared_error: 0.1026\n",
      "Epoch 2/10\n",
      "76052/76052 [==============================] - 139s 2ms/step - loss: 0.0373 - mean_squared_error: 0.0373\n",
      "Epoch 3/10\n",
      "76052/76052 [==============================] - 147s 2ms/step - loss: 0.0299 - mean_squared_error: 0.0299\n",
      "Epoch 4/10\n",
      "76052/76052 [==============================] - 145s 2ms/step - loss: 0.0259 - mean_squared_error: 0.0259\n",
      "Epoch 5/10\n",
      "76052/76052 [==============================] - 136s 2ms/step - loss: 0.0231 - mean_squared_error: 0.0231\n",
      "Epoch 6/10\n",
      "76052/76052 [==============================] - 150s 2ms/step - loss: 0.0209 - mean_squared_error: 0.0209\n",
      "Epoch 7/10\n",
      "76052/76052 [==============================] - 144s 2ms/step - loss: 0.0189 - mean_squared_error: 0.0189\n",
      "Epoch 8/10\n",
      "76052/76052 [==============================] - 133s 2ms/step - loss: 0.0174 - mean_squared_error: 0.0174\n",
      "Epoch 9/10\n",
      "76052/76052 [==============================] - 134s 2ms/step - loss: 0.0163 - mean_squared_error: 0.0163\n",
      "Epoch 10/10\n",
      "76052/76052 [==============================] - 137s 2ms/step - loss: 0.0152 - mean_squared_error: 0.0152\n"
     ]
    },
    {
     "data": {
      "text/plain": [
       "<keras.callbacks.History at 0x1a2ca379b0>"
      ]
     },
     "execution_count": 67,
     "metadata": {},
     "output_type": "execute_result"
    }
   ],
   "source": [
    "model.compile(loss='mse', optimizer='adam', metrics=['mse'])\n",
    "X_train_indices = sentences_to_indices(x_train, word_to_index, maxLen)\n",
    "model.fit([aux_x_train, x_train_indices], y_train, epochs=10, batch_size=32, shuffle=True)"
   ]
  },
  {
   "cell_type": "code",
   "execution_count": 69,
   "metadata": {},
   "outputs": [
    {
     "data": {
      "text/plain": [
       "array([[0.  ],\n",
       "       [0.  ],\n",
       "       [0.  ],\n",
       "       ...,\n",
       "       [0.2 ],\n",
       "       [0.  ],\n",
       "       [0.65]])"
      ]
     },
     "execution_count": 69,
     "metadata": {},
     "output_type": "execute_result"
    }
   ],
   "source": [
    "test_samples = create_samples(test_conversations)\n",
    "x_test, aux_x_test, y_test = create_features(test_samples)\n",
    "aux_x_test = np.array(aux_x_test) \n",
    "aux_x_test.reshape(-1, 1)"
   ]
  },
  {
   "cell_type": "code",
   "execution_count": 70,
   "metadata": {},
   "outputs": [
    {
     "name": "stdout",
     "output_type": "stream",
     "text": [
      "6740/6740 [==============================] - 4s 566us/step\n",
      "Mean square error =  0.019441413279700174\n"
     ]
    }
   ],
   "source": [
    "x_test_indices = sentences_to_indices(x_test, word_to_index, max_len=maxLen)\n",
    "loss, metric = model.evaluate([aux_x_test, x_test_indices], y_test)\n",
    "print(\"Mean square error = \", loss)"
   ]
  }
 ],
 "metadata": {
  "kernelspec": {
   "display_name": "Python [default]",
   "language": "python",
   "name": "python3"
  },
  "language_info": {
   "codemirror_mode": {
    "name": "ipython",
    "version": 3
   },
   "file_extension": ".py",
   "mimetype": "text/x-python",
   "name": "python",
   "nbconvert_exporter": "python",
   "pygments_lexer": "ipython3",
   "version": "3.6.4"
  }
 },
 "nbformat": 4,
 "nbformat_minor": 2
}
